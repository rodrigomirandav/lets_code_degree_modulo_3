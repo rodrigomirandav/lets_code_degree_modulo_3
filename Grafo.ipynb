{
 "cells": [
  {
   "cell_type": "code",
   "execution_count": 24,
   "id": "2854356e-f84b-486a-be70-fedd5ef34665",
   "metadata": {},
   "outputs": [
    {
     "name": "stdout",
     "output_type": "stream",
     "text": [
      "Grafo:\n",
      "{0: [1, 4], 1: [5, 7], 5: [6], 6: [], 4: [2], 2: [3], 3: [], 7: [8], 8: [], 10: [11], 11: []}\n",
      "Grafo:\n",
      "{0: [1], 1: [2], 2: [], 3: [4], 4: [3], 5: [6], 6: [8], 8: [], 7: [9], 9: [10], 10: []}\n"
     ]
    }
   ],
   "source": [
    "with open(\"input-exe-2-grafos.txt\", 'r') as f:\n",
    "    quantidade = int(f.readline())\n",
    "    repeticao = 1\n",
    "    grafos = []\n",
    "    \n",
    "    while repeticao <= quantidade:\n",
    "        no_arestas = f.readline().strip().split(' ')\n",
    "        nodes = int(no_arestas[0])      \n",
    "        arestas = int(no_arestas[1])\n",
    "        \n",
    "        grafo = dict()\n",
    "        \n",
    "        i = 1\n",
    "        \n",
    "        while i <= arestas:\n",
    "            no_arestas = f.readline().split(' ')\n",
    "            node = int(no_arestas[0])\n",
    "            aresta = int(no_arestas[1])\n",
    "            \n",
    "            if node not in grafo:\n",
    "                grafo[node] = []\n",
    "                \n",
    "            if aresta not in grafo:\n",
    "                grafo[aresta] = []\n",
    "                \n",
    "            grafo[node].append(aresta)           \n",
    "            \n",
    "            i +=1\n",
    "    \n",
    "        grafos.append(grafo)\n",
    "        repeticao += 1\n",
    "        \n",
    "\n",
    "for grafo in grafos:\n",
    "    print(\"Grafo:\")\n",
    "    print(grafo)\n",
    "    "
   ]
  },
  {
   "cell_type": "code",
   "execution_count": null,
   "id": "bab2eff8-79ad-4ff2-9172-d119a6316dde",
   "metadata": {},
   "outputs": [],
   "source": []
  }
 ],
 "metadata": {
  "kernelspec": {
   "display_name": "Python 3",
   "language": "python",
   "name": "python3"
  },
  "language_info": {
   "codemirror_mode": {
    "name": "ipython",
    "version": 3
   },
   "file_extension": ".py",
   "mimetype": "text/x-python",
   "name": "python",
   "nbconvert_exporter": "python",
   "pygments_lexer": "ipython3",
   "version": "3.8.8"
  }
 },
 "nbformat": 4,
 "nbformat_minor": 5
}
