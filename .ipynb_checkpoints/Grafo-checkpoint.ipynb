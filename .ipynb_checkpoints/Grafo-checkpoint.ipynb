{
 "cells": [
  {
   "cell_type": "code",
   "execution_count": 29,
   "id": "2854356e-f84b-486a-be70-fedd5ef34665",
   "metadata": {},
   "outputs": [
    {
     "name": "stdout",
     "output_type": "stream",
     "text": [
      "Grafo 1:\n",
      "{0: [1, 4], 1: [5, 7], 5: [6], 6: [], 4: [2], 2: [3], 3: [], 7: [8], 8: [], 10: [11], 11: []}\n",
      "\n",
      "Grafo 2:\n",
      "{0: [1], 1: [2], 2: [], 3: [4], 4: [3], 5: [6], 6: [8], 8: [], 7: [9], 9: [10], 10: []}\n",
      "\n",
      "Grafo 3:\n",
      "{0: [1], 1: [2], 2: [], 3: [4], 4: [3], 5: [6], 6: [8], 8: [], 7: [9], 9: [10], 10: []}\n",
      "\n"
     ]
    }
   ],
   "source": [
    "with open(\"input-exe-2-grafos.txt\", 'r') as arquivo:\n",
    "    quantidade = int(arquivo.readline())\n",
    "    repeticao = 1\n",
    "    grafos = []\n",
    "    \n",
    "    while repeticao <= quantidade:\n",
    "        no_arestas = arquivo.readline().strip().split(' ')\n",
    "        vertices = int(no_arestas[0])      \n",
    "        arestas = int(no_arestas[1])\n",
    "        \n",
    "        grafo = dict()\n",
    "        \n",
    "        i = 1\n",
    "        \n",
    "        while i <= arestas:\n",
    "            no_arestas = arquivo.readline().split(' ')\n",
    "            vertice = int(no_arestas[0])\n",
    "            aresta = int(no_arestas[1])\n",
    "            \n",
    "            if vertice not in grafo:\n",
    "                grafo[vertice] = []\n",
    "                \n",
    "            if aresta not in grafo:\n",
    "                grafo[aresta] = []\n",
    "                \n",
    "            grafo[vertice].append(aresta)           \n",
    "            \n",
    "            i +=1\n",
    "    \n",
    "        grafos.append(grafo)\n",
    "        repeticao += 1\n",
    "        \n",
    "\n",
    "for i, grafo in enumerate(grafos):\n",
    "    print(f\"Grafo {i + 1}:\")\n",
    "    print(grafo)\n",
    "    print()\n",
    "    "
   ]
  },
  {
   "cell_type": "code",
   "execution_count": null,
   "id": "bab2eff8-79ad-4ff2-9172-d119a6316dde",
   "metadata": {},
   "outputs": [],
   "source": []
  }
 ],
 "metadata": {
  "kernelspec": {
   "display_name": "Python 3",
   "language": "python",
   "name": "python3"
  },
  "language_info": {
   "codemirror_mode": {
    "name": "ipython",
    "version": 3
   },
   "file_extension": ".py",
   "mimetype": "text/x-python",
   "name": "python",
   "nbconvert_exporter": "python",
   "pygments_lexer": "ipython3",
   "version": "3.8.8"
  }
 },
 "nbformat": 4,
 "nbformat_minor": 5
}
