{
 "cells": [
  {
   "cell_type": "markdown",
   "id": "0d449e5e-4721-4b11-ad61-03cd3607240f",
   "metadata": {},
   "source": [
    "Given a time in -hour AM/PM format, convert it to military (24-hour) time.\n",
    "\n",
    "Note: - 12:00:00AM on a 12-hour clock is 00:00:00 on a 24-hour clock.\n",
    "- 12:00:00PM on a 12-hour clock is 12:00:00 on a 24-hour clock.\n",
    "\n",
    "Example\n",
    "\n",
    "\n",
    "Return '12:01:00'.\n",
    "\n",
    "\n",
    "Return '00:01:00'.\n",
    "\n",
    "Function Description\n",
    "\n",
    "Complete the timeConversion function in the editor below. It should return a new string representing the input time in 24 hour format.\n",
    "\n",
    "timeConversion has the following parameter(s):\n",
    "\n",
    "string s: a time in  hour format\n",
    "Returns\n",
    "\n",
    "string: the time in  hour format\n",
    "Input Format\n",
    "\n",
    "A single string  that represents a time in -hour clock format (i.e.:  or ).\n",
    "\n",
    "Constraints\n",
    "\n",
    "All input times are valid\n",
    "Sample Input 0\n",
    "\n",
    "07:05:45PM\n",
    "Sample Output 0\n",
    "\n",
    "19:05:45"
   ]
  },
  {
   "cell_type": "code",
   "execution_count": null,
   "id": "81d40980-8b9e-4d02-8b4b-01917398ffe5",
   "metadata": {},
   "outputs": [],
   "source": [
    "#!/bin/python3\n",
    "\n",
    "import math\n",
    "import os\n",
    "import random\n",
    "import re\n",
    "import sys\n",
    "\n",
    "#\n",
    "# Complete the 'timeConversion' function below.\n",
    "#\n",
    "# The function is expected to return a STRING.\n",
    "# The function accepts STRING s as parameter.\n",
    "#\n",
    "\n",
    "def timeConversion(s):\n",
    "    time = s[:-2]\n",
    "    am_pm = s[-2:]       \n",
    "    \n",
    "    if  s[:2] == '12':\n",
    "        if am_pm == 'AM':\n",
    "            time = '00' + time[2:]           \n",
    "    else:\n",
    "        if am_pm == 'PM':          \n",
    "            time = str(int(time[:2]) + 12) + time[2:] \n",
    "        \n",
    "    return time\n",
    "\n",
    "if __name__ == '__main__':\n",
    "    fptr = open(os.environ['OUTPUT_PATH'], 'w')\n",
    "\n",
    "    s = input()\n",
    "\n",
    "    result = timeConversion(s)\n",
    "\n",
    "    fptr.write(result + '\\n')\n",
    "\n",
    "    fptr.close()\n"
   ]
  },
  {
   "cell_type": "code",
   "execution_count": 11,
   "id": "12e415e2-fd5c-48b3-9f74-53117cf96a94",
   "metadata": {},
   "outputs": [
    {
     "name": "stdout",
     "output_type": "stream",
     "text": [
      "PM\n",
      "07:05:45\n",
      "01\n",
      "10\n"
     ]
    }
   ],
   "source": [
    "s  = '07:05:45PM'\n",
    "\n",
    "print(s[-2:])\n",
    "\n",
    "print(s[:-2])\n",
    "\n",
    "\n",
    "print(f\"{1:0>2}\")\n",
    "\n",
    "print(f\"{10:0>2}\")"
   ]
  }
 ],
 "metadata": {
  "kernelspec": {
   "display_name": "Python 3",
   "language": "python",
   "name": "python3"
  },
  "language_info": {
   "codemirror_mode": {
    "name": "ipython",
    "version": 3
   },
   "file_extension": ".py",
   "mimetype": "text/x-python",
   "name": "python",
   "nbconvert_exporter": "python",
   "pygments_lexer": "ipython3",
   "version": "3.8.8"
  }
 },
 "nbformat": 4,
 "nbformat_minor": 5
}
