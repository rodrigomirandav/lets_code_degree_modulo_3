{
 "cells": [
  {
   "cell_type": "code",
   "execution_count": null,
   "id": "f330ddf3-487c-4760-9ca7-958988d16054",
   "metadata": {},
   "outputs": [],
   "source": [
    "# Complete the compare_lists function below.\n",
    "\n",
    "#\n",
    "# For your reference:\n",
    "#\n",
    "# SinglyLinkedListNode:\n",
    "#     int data\n",
    "#     SinglyLinkedListNode next\n",
    "#\n",
    "#\n",
    "def compare_lists(llist1, llist2):\n",
    "    if (llist1 == None) & (llist2 == None):\n",
    "        return 1  \n",
    "\n",
    "    while llist1 != None:\n",
    "        if llist2 == None:\n",
    "            return 0\n",
    "        \n",
    "        if llist1.data != llist2.data:\n",
    "            return 0\n",
    "        \n",
    "        llist1 = llist1.next\n",
    "        llist2 = llist2.next\n",
    "        \n",
    "    \n",
    "    return 1 "
   ]
  }
 ],
 "metadata": {
  "kernelspec": {
   "display_name": "Python 3",
   "language": "python",
   "name": "python3"
  },
  "language_info": {
   "codemirror_mode": {
    "name": "ipython",
    "version": 3
   },
   "file_extension": ".py",
   "mimetype": "text/x-python",
   "name": "python",
   "nbconvert_exporter": "python",
   "pygments_lexer": "ipython3",
   "version": "3.8.8"
  }
 },
 "nbformat": 4,
 "nbformat_minor": 5
}
